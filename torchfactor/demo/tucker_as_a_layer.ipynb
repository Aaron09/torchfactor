{
 "cells": [
  {
   "cell_type": "code",
   "execution_count": 3,
   "metadata": {},
   "outputs": [],
   "source": [
    "from torchfactor.factorization.direct_tuckernet import DirectTuckerNet\n",
    "\n",
    "import torch\n",
    "import torch.nn as nn\n",
    "import torch.nn.functional as F\n",
    "import torch.optim as optim\n",
    "from torch.utils import data\n",
    "\n",
    "import torchvision\n",
    "import torchvision.transforms as transforms\n",
    "\n",
    "\n",
    "import numpy as np\n",
    "import tqdm\n",
    "\n",
    "import matplotlib.pyplot as plt"
   ]
  },
  {
   "cell_type": "code",
   "execution_count": 10,
   "metadata": {},
   "outputs": [],
   "source": [
    "class dense_net( nn.Module):\n",
    "    def __init__(self):\n",
    "        super(dense_net, self).__init__()\n",
    "        self.c1_weights = nn.Parameter(torch.Tensor(16, 1, 3, 3))\n",
    "        self.c2_weights = nn.Parameter(torch.Tensor(32, 16, 5, 5))\n",
    "        self.c3_weights = nn.Parameter(torch.Tensor(32, 32, 3, 3))\n",
    "        self.c4_weights = nn.Parameter(torch.Tensor(32, 32, 5, 5))\n",
    "        \n",
    "        torch.nn.init.normal_(self.c1_weights)\n",
    "        torch.nn.init.normal_(self.c2_weights)\n",
    "        torch.nn.init.normal_(self.c3_weights)\n",
    "        torch.nn.init.normal_(self.c4_weights)\n",
    "\n",
    "        #self.conv1 = nn.Conv2d(1, 16, 3)\n",
    "        self.bn1 = nn.BatchNorm2d(16)\n",
    "\n",
    "        #self.conv2 = nn.Conv2d(16, 32, 5)\n",
    "        self.bn2 = nn.BatchNorm2d(32)\n",
    "\n",
    "\n",
    "        #self.conv3 = nn.Conv2d(32, 32, 3)\n",
    "        self.bn3 = nn.BatchNorm2d(32)\n",
    "\n",
    "\n",
    "        #self.conv4 = nn.Conv2d(32, 32, 5)\n",
    "        self.bn4 = nn.BatchNorm2d(32)               \n",
    "        \n",
    "        self.pool = nn.MaxPool2d(2, 2)\n",
    "        \n",
    "        self.fc_net = nn.Sequential(\n",
    "            nn.Linear(32 * 2 * 2, 128),\n",
    "            nn.ReLU(),\n",
    "            nn.Linear(128, 64),\n",
    "            nn.ReLU(), \n",
    "            nn.Linear(64, 64),\n",
    "            nn.ReLU(), \n",
    "            nn.Linear(64, 10),\n",
    "        )\n",
    "\n",
    "    def forward(self, x):\n",
    "        x = F.relu(F.conv2d(x, self.c1_weights))\n",
    "        x = self.bn1(x)\n",
    "\n",
    "        x = F.relu(F.conv2d(x, self.c2_weights))\n",
    "        x = self.bn2(x)\n",
    "\n",
    "        x = self.pool(x)\n",
    "\n",
    "        x = F.relu(F.conv2d(x, self.c3_weights))\n",
    "        x = self.bn3(x)\n",
    "\n",
    "        x = F.relu(F.conv2d(x, self.c4_weights))\n",
    "        x = self.bn4(x)\n",
    "\n",
    "        x = self.pool(x)\n",
    "\n",
    "        x = x.view(-1, 32 * 2 * 2)\n",
    "        return self.fc_net(x)"
   ]
  },
  {
   "cell_type": "code",
   "execution_count": 11,
   "metadata": {},
   "outputs": [
    {
     "name": "stdout",
     "output_type": "stream",
     "text": [
      "This model has 77562 params\n"
     ]
    }
   ],
   "source": [
    "net = dense_net().cuda()\n",
    "\n",
    "model_parameters = filter(lambda p: p.requires_grad, net.parameters())\n",
    "params = sum([np.prod(p.size()) for p in model_parameters])\n",
    "print('This model has {} params'.format(params))"
   ]
  },
  {
   "cell_type": "code",
   "execution_count": 12,
   "metadata": {},
   "outputs": [],
   "source": [
    "criterion = nn.CrossEntropyLoss()\n",
    "opt = optim.Adam(net.parameters(), lr=4e-3)\n",
    "n_epochs = 5\n",
    "TOTAL_CLASSES = 10\n",
    "\n",
    "train_transform = transforms.Compose(\n",
    "    [transforms.ToTensor()])\n",
    "test_transform = transforms.Compose(\n",
    "    [transforms.ToTensor()])"
   ]
  },
  {
   "cell_type": "code",
   "execution_count": 13,
   "metadata": {},
   "outputs": [
    {
     "name": "stderr",
     "output_type": "stream",
     "text": [
      "100%|██████████| 1875/1875 [00:27<00:00, 67.02it/s] \n",
      "100%|██████████| 1875/1875 [00:20<00:00, 90.83it/s] \n",
      "100%|██████████| 1875/1875 [00:23<00:00, 79.95it/s]\n",
      "100%|██████████| 1875/1875 [00:23<00:00, 80.13it/s]\n",
      "100%|██████████| 1875/1875 [00:24<00:00, 76.99it/s]\n"
     ]
    }
   ],
   "source": [
    "mean_losses = []\n",
    "for e in range(n_epochs):\n",
    "    net.train()\n",
    "    losses = []\n",
    "    \n",
    "    train_dataset = torchvision.datasets.FashionMNIST(root = \"data\", train=True, \n",
    "                                                      transform=train_transform, \n",
    "                                                      target_transform=None, download=True) \n",
    "    \n",
    "    train_dataloader = data.DataLoader(train_dataset, batch_size=32, \n",
    "                                       shuffle=True, num_workers=4, drop_last=True)\n",
    "\n",
    "    for i, batch in enumerate(tqdm.tqdm(train_dataloader)):\n",
    "        img, label = batch\n",
    "        img, label = img.cuda(), label.cuda()\n",
    "\n",
    "        opt.zero_grad()\n",
    "\n",
    "        pred = net(img)\n",
    "\n",
    "        loss = criterion(pred, label)\n",
    "        \n",
    "        loss.backward()\n",
    "        opt.step()\n",
    "\n",
    "        losses.append(loss.item())\n",
    "    mean_losses.append(np.array(losses).mean()) "
   ]
  },
  {
   "cell_type": "code",
   "execution_count": 14,
   "metadata": {},
   "outputs": [],
   "source": [
    "def calculate_accuracy(dataloader, is_gpu):\n",
    "    \"\"\" Util function to calculate val set accuracy,\n",
    "    both overall and per class accuracy\n",
    "    Args:\n",
    "        dataloader (torch.utils.data.DataLoader): val set \n",
    "        is_gpu (bool): whether to run on GPU\n",
    "    Returns:\n",
    "        tuple: (overall accuracy, class level accuracy)\n",
    "    \"\"\"    \n",
    "    correct = 0.\n",
    "    total = 0.\n",
    "    predictions = []\n",
    "\n",
    "    class_correct = list(0. for i in range(TOTAL_CLASSES))\n",
    "    class_total = list(0. for i in range(TOTAL_CLASSES))\n",
    "\n",
    "    for data in dataloader:\n",
    "        images, labels = data\n",
    "        if is_gpu:\n",
    "            images = images.cuda()\n",
    "            labels = labels.cuda()\n",
    "        outputs = net(images)\n",
    "        _, predicted = torch.max(outputs.data, 1)\n",
    "        predictions.extend(list(predicted.cpu().numpy()))\n",
    "        total += labels.size(0)\n",
    "        correct += (predicted == labels).sum()\n",
    "\n",
    "        c = (predicted == labels).squeeze()\n",
    "        for i in range(len(labels)):\n",
    "            label = labels[i]\n",
    "            class_correct[label] += c[i]\n",
    "            class_total[label] += 1\n",
    "\n",
    "    class_accuracy = 100 * np.divide(class_correct, class_total)\n",
    "    return 100*correct/total, class_accuracy\n",
    "\n",
    "test_dataset = torchvision.datasets.FashionMNIST(root = \"data\", train=False, \n",
    "                                                 transform=test_transform, target_transform=None, download=False)\n",
    "testloader = torch.utils.data.DataLoader(test_dataset, batch_size=256, \n",
    "                                         shuffle=False, num_workers=2, drop_last=False) #DO NOT CHANGE\n"
   ]
  },
  {
   "cell_type": "code",
   "execution_count": 15,
   "metadata": {},
   "outputs": [
    {
     "name": "stdout",
     "output_type": "stream",
     "text": [
      "tensor(88.3000, device='cuda:0')\n",
      "[tensor(93.6000, device='cuda:0') tensor(96.4000, device='cuda:0')\n",
      " tensor(86.4000, device='cuda:0') tensor(93.8000, device='cuda:0')\n",
      " tensor(74.9000, device='cuda:0') tensor(98., device='cuda:0')\n",
      " tensor(54.1000, device='cuda:0') tensor(93.7000, device='cuda:0')\n",
      " tensor(97., device='cuda:0') tensor(95.1000, device='cuda:0')]\n"
     ]
    }
   ],
   "source": [
    "net.eval()\n",
    "\n",
    "test_accuracy, test_classwise_accuracy = calculate_accuracy(testloader, True)\n",
    "print(test_accuracy)\n",
    "print(test_classwise_accuracy)"
   ]
  },
  {
   "cell_type": "code",
   "execution_count": 35,
   "metadata": {},
   "outputs": [],
   "source": [
    "class tucker_net( nn.Module):\n",
    "    def __init__(self):\n",
    "        super(tucker_net, self).__init__()\n",
    "#         self.c1_weights = nn.Parameter(torch.Tensor(16, 1, 3, 3))\n",
    "#         self.c2_weights = nn.Parameter(torch.Tensor(32, 16, 5, 5))\n",
    "#         self.c3_weights = nn.Parameter(torch.Tensor(32, 32, 3, 3))\n",
    "#         self.c4_weights = nn.Parameter(torch.Tensor(32, 32, 5, 5))\n",
    "        \n",
    "        self.c1_tuck = DirectTuckerNet((16, 1, 3 * 3), (16, 1, 3 * 3))\n",
    "        self.c2_tuck = DirectTuckerNet((32, 16, 5 * 5), (26, 16, 3 * 3))\n",
    "        self.c3_tuck = DirectTuckerNet((32, 32, 3 * 3), (26, 26, 3 * 3))\n",
    "        self.c4_tuck = DirectTuckerNet((32, 32, 5 * 5), (26, 26, 5 * 5))\n",
    "        \n",
    "\n",
    "        #self.conv1 = nn.Conv2d(1, 16, 3)\n",
    "        self.bn1 = nn.BatchNorm2d(16)\n",
    "\n",
    "        #self.conv2 = nn.Conv2d(16, 32, 5)\n",
    "        self.bn2 = nn.BatchNorm2d(32)\n",
    "\n",
    "\n",
    "        #self.conv3 = nn.Conv2d(32, 32, 3)\n",
    "        self.bn3 = nn.BatchNorm2d(32)\n",
    "\n",
    "\n",
    "        #self.conv4 = nn.Conv2d(32, 32, 5)\n",
    "        self.bn4 = nn.BatchNorm2d(32)               \n",
    "        \n",
    "        self.pool = nn.MaxPool2d(2, 2)\n",
    "        \n",
    "        self.fc_net = nn.Sequential(\n",
    "            nn.Linear(32 * 2 * 2, 128),\n",
    "            nn.ReLU(),\n",
    "            nn.Linear(128, 64),\n",
    "            nn.ReLU(), \n",
    "            nn.Linear(64, 64),\n",
    "            nn.ReLU(), \n",
    "            nn.Linear(64, 10),\n",
    "        )\n",
    "\n",
    "    def forward(self, x):\n",
    "        c1_weights = self.c1_tuck().view(16, 1, 3, 3)\n",
    "        c2_weights = self.c2_tuck().view(32, 16, 5, 5)\n",
    "        c3_weights = self.c3_tuck().view(32, 32, 3, 3)\n",
    "        c4_weights = self.c4_tuck().view(32, 32, 5, 5)\n",
    "        \n",
    "        x = F.relu(F.conv2d(x, c1_weights))\n",
    "        x = self.bn1(x)\n",
    "\n",
    "        x = F.relu(F.conv2d(x, c2_weights))\n",
    "        x = self.bn2(x)\n",
    "\n",
    "        x = self.pool(x)\n",
    "\n",
    "        x = F.relu(F.conv2d(x, c3_weights))\n",
    "        x = self.bn3(x)\n",
    "\n",
    "        x = F.relu(F.conv2d(x, c4_weights))\n",
    "        x = self.bn4(x)\n",
    "\n",
    "        x = self.pool(x)\n",
    "\n",
    "        x = x.view(-1, 32 * 2 * 2)\n",
    "        return self.fc_net(x)"
   ]
  },
  {
   "cell_type": "code",
   "execution_count": 36,
   "metadata": {},
   "outputs": [
    {
     "name": "stdout",
     "output_type": "stream",
     "text": [
      "This model has 62359 params\n"
     ]
    }
   ],
   "source": [
    "net = tucker_net().cuda()\n",
    "\n",
    "model_parameters = filter(lambda p: p.requires_grad, net.parameters())\n",
    "params = sum([np.prod(p.size()) for p in model_parameters])\n",
    "print('This model has {} params'.format(params))\n",
    "\n",
    "criterion = nn.CrossEntropyLoss()\n",
    "opt = optim.Adam(net.parameters(), lr=4e-3)\n",
    "n_epochs = 5\n",
    "TOTAL_CLASSES = 10\n",
    "\n",
    "train_transform = transforms.Compose(\n",
    "    [transforms.ToTensor()])\n",
    "test_transform = transforms.Compose(\n",
    "    [transforms.ToTensor()])"
   ]
  },
  {
   "cell_type": "code",
   "execution_count": 37,
   "metadata": {},
   "outputs": [
    {
     "name": "stderr",
     "output_type": "stream",
     "text": [
      "100%|██████████| 1875/1875 [00:32<00:00, 57.76it/s]\n",
      "100%|██████████| 1875/1875 [00:31<00:00, 58.67it/s]\n",
      "100%|██████████| 1875/1875 [00:31<00:00, 58.83it/s]\n",
      "100%|██████████| 1875/1875 [00:31<00:00, 59.99it/s]\n",
      "100%|██████████| 1875/1875 [00:32<00:00, 58.00it/s]\n"
     ]
    }
   ],
   "source": [
    "mean_losses = []\n",
    "for e in range(n_epochs):\n",
    "    net.train()\n",
    "    losses = []\n",
    "    \n",
    "    train_dataset = torchvision.datasets.FashionMNIST(root = \"data\", train=True, \n",
    "                                                      transform=train_transform, \n",
    "                                                      target_transform=None, download=True) \n",
    "    \n",
    "    train_dataloader = data.DataLoader(train_dataset, batch_size=32, \n",
    "                                       shuffle=True, num_workers=4, drop_last=True)\n",
    "\n",
    "    for i, batch in enumerate(tqdm.tqdm(train_dataloader)):\n",
    "        img, label = batch\n",
    "        img, label = img.cuda(), label.cuda()\n",
    "\n",
    "        opt.zero_grad()\n",
    "\n",
    "        pred = net(img)\n",
    "\n",
    "        loss = criterion(pred, label)\n",
    "        \n",
    "        loss.backward()\n",
    "        opt.step()\n",
    "\n",
    "        losses.append(loss.item())\n",
    "    mean_losses.append(np.array(losses).mean()) "
   ]
  },
  {
   "cell_type": "code",
   "execution_count": 38,
   "metadata": {},
   "outputs": [
    {
     "name": "stdout",
     "output_type": "stream",
     "text": [
      "tensor(77.8600, device='cuda:0')\n",
      "[tensor(74.8000, device='cuda:0') tensor(90., device='cuda:0')\n",
      " tensor(63.4000, device='cuda:0') tensor(87.6000, device='cuda:0')\n",
      " tensor(78.3000, device='cuda:0') tensor(78.2000, device='cuda:0')\n",
      " tensor(26.5000, device='cuda:0') tensor(92.8000, device='cuda:0')\n",
      " tensor(95.0000, device='cuda:0') tensor(92., device='cuda:0')]\n"
     ]
    }
   ],
   "source": [
    "net.eval()\n",
    "\n",
    "test_accuracy, test_classwise_accuracy = calculate_accuracy(testloader, True)\n",
    "print(test_accuracy)\n",
    "print(test_classwise_accuracy)"
   ]
  },
  {
   "cell_type": "code",
   "execution_count": null,
   "metadata": {},
   "outputs": [],
   "source": []
  }
 ],
 "metadata": {
  "kernelspec": {
   "display_name": "Python 3",
   "language": "python",
   "name": "python3"
  },
  "language_info": {
   "codemirror_mode": {
    "name": "ipython",
    "version": 3
   },
   "file_extension": ".py",
   "mimetype": "text/x-python",
   "name": "python",
   "nbconvert_exporter": "python",
   "pygments_lexer": "ipython3",
   "version": "3.6.2"
  }
 },
 "nbformat": 4,
 "nbformat_minor": 4
}
