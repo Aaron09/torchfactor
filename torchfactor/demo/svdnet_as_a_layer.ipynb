{
 "cells": [
  {
   "cell_type": "code",
   "execution_count": 2,
   "metadata": {},
   "outputs": [],
   "source": [
    "from torchfactor.factorization.svdnet import SVDNet\n",
    "\n",
    "import torch\n",
    "import torch.nn as nn\n",
    "import torch.nn.functional as F\n",
    "import torch.optim as optim\n",
    "from torch.utils import data\n",
    "\n",
    "import torchvision\n",
    "import torchvision.transforms as transforms\n",
    "\n",
    "\n",
    "import numpy as np\n",
    "import tqdm\n",
    "\n",
    "import matplotlib.pyplot as plt"
   ]
  },
  {
   "cell_type": "code",
   "execution_count": 9,
   "metadata": {},
   "outputs": [],
   "source": [
    "class dense_net( nn.Module):\n",
    "    def __init__(self):\n",
    "        super(dense_net, self).__init__()\n",
    "\n",
    "#         self.layers =  [nn.Linear(28 * 28, 256), nn.ReLU(),\n",
    "#                         nn.Linear(256, 128), nn.ReLU(),\n",
    "#                         nn.Linear(128, 64), nn.ReLU(),\n",
    "#                         nn.Linear(64, 10), nn.Softmax(-1)]\n",
    "        \n",
    "#         self.layers = nn.Sequential(*self.layers)\n",
    "        self.conv1 = nn.Conv2d(1, 16, 3)\n",
    "        self.bn1 = nn.BatchNorm2d(16)\n",
    "\n",
    "        self.conv2 = nn.Conv2d(16, 32, 5)\n",
    "        self.bn2 = nn.BatchNorm2d(32)\n",
    "\n",
    "\n",
    "        self.conv3 = nn.Conv2d(32, 32, 3)\n",
    "        self.bn3 = nn.BatchNorm2d(32)\n",
    "\n",
    "\n",
    "        self.conv4 = nn.Conv2d(32, 32, 5)\n",
    "        self.bn4 = nn.BatchNorm2d(32)               \n",
    "        \n",
    "        self.pool = nn.MaxPool2d(2, 2)\n",
    "        \n",
    "        self.fc_net = nn.Sequential(\n",
    "            nn.Linear(32 * 2 * 2, 128),\n",
    "            nn.ReLU(),\n",
    "            nn.Linear(128, 64),\n",
    "            nn.ReLU(), \n",
    "            nn.Linear(64, 64),\n",
    "            nn.ReLU(), \n",
    "            nn.Linear(64, 10),\n",
    "        )\n",
    "\n",
    "    def forward(self, x):\n",
    "#         x = x.view(x.shape[0], -1)\n",
    "#         return self.layers(x)\n",
    "        x = F.relu(self.conv1(x))\n",
    "        x = self.bn1(x)\n",
    "\n",
    "        x = F.relu(self.conv2(x))\n",
    "        x = self.bn2(x)\n",
    "\n",
    "        x = self.pool(x)\n",
    "\n",
    "        x = F.relu(self.conv3(x))\n",
    "        x = self.bn3(x)\n",
    "\n",
    "        x = F.relu(self.conv4(x))\n",
    "        x = self.bn4(x)\n",
    "\n",
    "        x = self.pool(x)\n",
    "\n",
    "        x = x.view(-1, 32 * 2 * 2)\n",
    "        return self.fc_net(x)"
   ]
  },
  {
   "cell_type": "code",
   "execution_count": 35,
   "metadata": {},
   "outputs": [
    {
     "name": "stdout",
     "output_type": "stream",
     "text": [
      "This model has 77674 params\n"
     ]
    }
   ],
   "source": [
    "net = dense_net().cuda()\n",
    "\n",
    "model_parameters = filter(lambda p: p.requires_grad, net.parameters())\n",
    "params = sum([np.prod(p.size()) for p in model_parameters])\n",
    "print('This model has {} params'.format(params))\n"
   ]
  },
  {
   "cell_type": "code",
   "execution_count": 11,
   "metadata": {},
   "outputs": [],
   "source": [
    "criterion = nn.CrossEntropyLoss()\n",
    "opt = optim.Adam(net.parameters(), lr=4e-3)\n",
    "n_epochs = 5\n",
    "TOTAL_CLASSES = 10\n",
    "\n",
    "train_transform = transforms.Compose(\n",
    "    [transforms.ToTensor()])\n",
    "test_transform = transforms.Compose(\n",
    "    [transforms.ToTensor()])"
   ]
  },
  {
   "cell_type": "code",
   "execution_count": 12,
   "metadata": {},
   "outputs": [
    {
     "name": "stderr",
     "output_type": "stream",
     "text": [
      "100%|██████████| 1875/1875 [00:29<00:00, 62.71it/s] \n",
      "100%|██████████| 1875/1875 [00:20<00:00, 91.54it/s] \n",
      "100%|██████████| 1875/1875 [00:19<00:00, 95.30it/s] \n",
      "100%|██████████| 1875/1875 [00:28<00:00, 65.16it/s] \n",
      "100%|██████████| 1875/1875 [00:36<00:00, 51.33it/s]\n"
     ]
    }
   ],
   "source": [
    "mean_losses = []\n",
    "for e in range(n_epochs):\n",
    "    net.train()\n",
    "    losses = []\n",
    "    \n",
    "    train_dataset = torchvision.datasets.FashionMNIST(root = \"data\", train=True, \n",
    "                                                      transform=train_transform, \n",
    "                                                      target_transform=None, download=True) \n",
    "    \n",
    "    train_dataloader = data.DataLoader(train_dataset, batch_size=32, \n",
    "                                       shuffle=True, num_workers=4, drop_last=True)\n",
    "\n",
    "    for i, batch in enumerate(tqdm.tqdm(train_dataloader)):\n",
    "        img, label = batch\n",
    "        img, label = img.cuda(), label.cuda()\n",
    "\n",
    "        opt.zero_grad()\n",
    "\n",
    "        pred = net(img)\n",
    "\n",
    "        loss = criterion(pred, label)\n",
    "        \n",
    "        loss.backward()\n",
    "        opt.step()\n",
    "\n",
    "        losses.append(loss.item())\n",
    "    mean_losses.append(np.array(losses).mean()) "
   ]
  },
  {
   "cell_type": "code",
   "execution_count": 13,
   "metadata": {},
   "outputs": [],
   "source": [
    "def calculate_accuracy(dataloader, is_gpu):\n",
    "    \"\"\" Util function to calculate val set accuracy,\n",
    "    both overall and per class accuracy\n",
    "    Args:\n",
    "        dataloader (torch.utils.data.DataLoader): val set \n",
    "        is_gpu (bool): whether to run on GPU\n",
    "    Returns:\n",
    "        tuple: (overall accuracy, class level accuracy)\n",
    "    \"\"\"    \n",
    "    correct = 0.\n",
    "    total = 0.\n",
    "    predictions = []\n",
    "\n",
    "    class_correct = list(0. for i in range(TOTAL_CLASSES))\n",
    "    class_total = list(0. for i in range(TOTAL_CLASSES))\n",
    "\n",
    "    for data in dataloader:\n",
    "        images, labels = data\n",
    "        if is_gpu:\n",
    "            images = images.cuda()\n",
    "            labels = labels.cuda()\n",
    "        outputs = net(images)\n",
    "        _, predicted = torch.max(outputs.data, 1)\n",
    "        predictions.extend(list(predicted.cpu().numpy()))\n",
    "        total += labels.size(0)\n",
    "        correct += (predicted == labels).sum()\n",
    "\n",
    "        c = (predicted == labels).squeeze()\n",
    "        for i in range(len(labels)):\n",
    "            label = labels[i]\n",
    "            class_correct[label] += c[i]\n",
    "            class_total[label] += 1\n",
    "\n",
    "    class_accuracy = 100 * np.divide(class_correct, class_total)\n",
    "    return 100*correct/total, class_accuracy\n",
    "\n",
    "test_dataset = torchvision.datasets.FashionMNIST(root = \"data\", train=False, \n",
    "                                                 transform=test_transform, target_transform=None, download=False)\n",
    "testloader = torch.utils.data.DataLoader(test_dataset, batch_size=256, \n",
    "                                         shuffle=False, num_workers=2, drop_last=False) #DO NOT CHANGE\n"
   ]
  },
  {
   "cell_type": "code",
   "execution_count": 14,
   "metadata": {},
   "outputs": [
    {
     "name": "stdout",
     "output_type": "stream",
     "text": [
      "tensor(90.0500, device='cuda:0')\n",
      "[tensor(90., device='cuda:0') tensor(97.9000, device='cuda:0')\n",
      " tensor(90., device='cuda:0') tensor(91.6000, device='cuda:0')\n",
      " tensor(83.4000, device='cuda:0') tensor(97.6000, device='cuda:0')\n",
      " tensor(59.1000, device='cuda:0') tensor(95.2000, device='cuda:0')\n",
      " tensor(98.3000, device='cuda:0') tensor(97.4000, device='cuda:0')]\n"
     ]
    }
   ],
   "source": [
    "net.eval()\n",
    "\n",
    "test_accuracy, test_classwise_accuracy = calculate_accuracy(testloader, True)\n",
    "print(test_accuracy)\n",
    "print(test_classwise_accuracy)"
   ]
  },
  {
   "cell_type": "code",
   "execution_count": 25,
   "metadata": {},
   "outputs": [],
   "source": [
    "class svd_layer( nn.Module):\n",
    "    def __init__(self, n, num_hhrs):\n",
    "        super(svd_layer, self).__init__()\n",
    "        self.svd = SVDNet(n, num_hhrs)\n",
    "        \n",
    "    def forward(self, x):\n",
    "        return self.svd(x.transpose(0,-1)).transpose(0,-1)\n",
    "   \n",
    "class svd_net( nn.Module):\n",
    "    def __init__(self):\n",
    "        super(svd_net, self).__init__()\n",
    "\n",
    "        self.conv1 = nn.Conv2d(1, 16, 3)\n",
    "        self.bn1 = nn.BatchNorm2d(16)\n",
    "\n",
    "        self.conv2 = nn.Conv2d(16, 32, 5)\n",
    "        self.bn2 = nn.BatchNorm2d(32)\n",
    "\n",
    "\n",
    "        self.conv3 = nn.Conv2d(32, 32, 3)\n",
    "        self.bn3 = nn.BatchNorm2d(32)\n",
    "\n",
    "\n",
    "        self.conv4 = nn.Conv2d(32, 32, 5)\n",
    "        self.bn4 = nn.BatchNorm2d(32)               \n",
    "        \n",
    "        self.pool = nn.MaxPool2d(2, 2)\n",
    "        \n",
    "        self.fc_net = nn.Sequential(\n",
    "            svd_layer(128, 20),\n",
    "            nn.ReLU(),\n",
    "            nn.Linear(128, 64),\n",
    "            nn.ReLU(), \n",
    "            svd_layer(64, 20),\n",
    "            nn.ReLU(), \n",
    "            nn.Linear(64, 10),\n",
    "        )\n",
    "\n",
    "    def forward(self, x):\n",
    "        x = F.relu(self.conv1(x))\n",
    "        x = self.bn1(x)\n",
    "\n",
    "        x = F.relu(self.conv2(x))\n",
    "        x = self.bn2(x)\n",
    "\n",
    "        x = self.pool(x)\n",
    "\n",
    "        x = F.relu(self.conv3(x))\n",
    "        x = self.bn3(x)\n",
    "\n",
    "        x = F.relu(self.conv4(x))\n",
    "        x = self.bn4(x)\n",
    "\n",
    "        x = self.pool(x)\n",
    "\n",
    "        x = x.view(-1, 32 * 2 * 2)\n",
    "        return self.fc_net(x)"
   ]
  },
  {
   "cell_type": "code",
   "execution_count": 33,
   "metadata": {},
   "outputs": [
    {
     "name": "stdout",
     "output_type": "stream",
     "text": [
      "This model has 64874 params\n"
     ]
    }
   ],
   "source": [
    "net = svd_net().cuda()\n",
    "\n",
    "model_parameters = filter(lambda p: p.requires_grad, net.parameters())\n",
    "params = sum([np.prod(p.size()) for p in model_parameters])\n",
    "print('This model has {} params'.format(params))\n",
    "\n",
    "criterion = nn.CrossEntropyLoss()\n",
    "opt = optim.Adam(net.parameters(), lr=4e-3)\n",
    "n_epochs = 5\n",
    "TOTAL_CLASSES = 10\n",
    "\n",
    "train_transform = transforms.Compose(\n",
    "    [transforms.ToTensor()])\n",
    "test_transform = transforms.Compose(\n",
    "    [transforms.ToTensor()])"
   ]
  },
  {
   "cell_type": "code",
   "execution_count": 27,
   "metadata": {},
   "outputs": [
    {
     "name": "stderr",
     "output_type": "stream",
     "text": [
      "100%|██████████| 1875/1875 [04:29<00:00,  6.95it/s]\n",
      "100%|██████████| 1875/1875 [04:30<00:00,  6.94it/s]\n",
      "100%|██████████| 1875/1875 [04:34<00:00,  6.82it/s]\n",
      "100%|██████████| 1875/1875 [04:28<00:00,  6.99it/s]\n",
      "100%|██████████| 1875/1875 [04:32<00:00,  6.87it/s]\n"
     ]
    }
   ],
   "source": [
    "mean_losses = []\n",
    "for e in range(n_epochs):\n",
    "    net.train()\n",
    "    losses = []\n",
    "    \n",
    "    train_dataset = torchvision.datasets.FashionMNIST(root = \"data\", train=True, \n",
    "                                                      transform=train_transform, \n",
    "                                                      target_transform=None, download=True) \n",
    "    \n",
    "    train_dataloader = data.DataLoader(train_dataset, batch_size=32, \n",
    "                                       shuffle=True, num_workers=4, drop_last=True)\n",
    "\n",
    "    for i, batch in enumerate(tqdm.tqdm(train_dataloader)):\n",
    "        img, label = batch\n",
    "        img, label = img.cuda(), label.cuda()\n",
    "\n",
    "        opt.zero_grad()\n",
    "\n",
    "        pred = net(img)\n",
    "\n",
    "        loss = criterion(pred, label)\n",
    "        \n",
    "        loss.backward()\n",
    "        opt.step()\n",
    "\n",
    "        losses.append(loss.item())\n",
    "    mean_losses.append(np.array(losses).mean()) "
   ]
  },
  {
   "cell_type": "code",
   "execution_count": 28,
   "metadata": {},
   "outputs": [
    {
     "name": "stdout",
     "output_type": "stream",
     "text": [
      "tensor(90.8900, device='cuda:0')\n",
      "[tensor(81.4000, device='cuda:0') tensor(97.7000, device='cuda:0')\n",
      " tensor(84.2000, device='cuda:0') tensor(93.0000, device='cuda:0')\n",
      " tensor(90.8000, device='cuda:0') tensor(98.4000, device='cuda:0')\n",
      " tensor(74.1000, device='cuda:0') tensor(96.3000, device='cuda:0')\n",
      " tensor(97.4000, device='cuda:0') tensor(95.6000, device='cuda:0')]\n"
     ]
    }
   ],
   "source": [
    "net.eval()\n",
    "\n",
    "test_accuracy, test_classwise_accuracy = calculate_accuracy(testloader, True)\n",
    "print(test_accuracy)\n",
    "print(test_classwise_accuracy)"
   ]
  },
  {
   "cell_type": "code",
   "execution_count": null,
   "metadata": {},
   "outputs": [],
   "source": []
  }
 ],
 "metadata": {
  "kernelspec": {
   "display_name": "Python 3",
   "language": "python",
   "name": "python3"
  },
  "language_info": {
   "codemirror_mode": {
    "name": "ipython",
    "version": 3
   },
   "file_extension": ".py",
   "mimetype": "text/x-python",
   "name": "python",
   "nbconvert_exporter": "python",
   "pygments_lexer": "ipython3",
   "version": "3.6.2"
  }
 },
 "nbformat": 4,
 "nbformat_minor": 4
}
