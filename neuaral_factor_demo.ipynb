{
 "cells": [
  {
   "cell_type": "code",
   "execution_count": 1,
   "metadata": {
    "ExecuteTime": {
     "end_time": "2020-04-13T21:08:34.106258Z",
     "start_time": "2020-04-13T21:08:32.860025Z"
    }
   },
   "outputs": [],
   "source": [
    "import numpy as np\n",
    "import numpy.linalg as la\n",
    "\n",
    "import scipy as sp\n",
    "import scipy.linalg as sla\n",
    "\n",
    "import matplotlib.pyplot as plt\n",
    "\n",
    "import tqdm \n",
    "\n",
    "import torch\n",
    "import torch.nn as nn\n",
    "import torch.functional as F"
   ]
  },
  {
   "cell_type": "markdown",
   "metadata": {},
   "source": [
    "## Make some random non-negative X matrix"
   ]
  },
  {
   "cell_type": "code",
   "execution_count": 2,
   "metadata": {
    "ExecuteTime": {
     "end_time": "2020-04-13T21:08:34.255614Z",
     "start_time": "2020-04-13T21:08:34.108757Z"
    }
   },
   "outputs": [
    {
     "data": {
      "image/png": "[encoded data removed]",
      "text/plain": [
       "<Figure size 288x288 with 1 Axes>"
      ]
     },
     "metadata": {
      "needs_background": "light"
     },
     "output_type": "display_data"
    }
   ],
   "source": [
    "W = np.random.uniform(0, 1, size=(10,4))\n",
    "H = np.random.uniform(0, 1, size=(4,10))\n",
    "X = W @ H\n",
    "plt.matshow(X)\n",
    "plt.title('Original Matrix')\n",
    "plt.show()"
   ]
  },
  {
   "cell_type": "markdown",
   "metadata": {},
   "source": [
    "## Now define a neural network which is made up of a W^-1 and a W"
   ]
  },
  {
   "cell_type": "markdown",
   "metadata": {},
   "source": [
    "NMF says $$X \\approx WH$$\n",
    "\n",
    "We're gonna make an autoencoder of the form \n",
    "$$\\text{Encoder: }H = \\sigma(W^{-1}X)$$ \n",
    "$$\\text{Decoder: } \\hat{X} = \\sigma(W)H$$\n",
    "\n",
    "The encoder will only output non-negative things, same with the decoder\n",
    "$$\\sigma(\\cdot): \\mathbb{R} \\to \\mathbb{R}_{\\geq 0}$$\n",
    "\n",
    "\n",
    "and will minimize $$\\mathcal{L}(X, \\hat{X}) = ||X - \\hat{X}||^2_2$$"
   ]
  },
  {
   "cell_type": "code",
   "execution_count": 3,
   "metadata": {
    "ExecuteTime": {
     "end_time": "2020-04-13T21:08:35.755561Z",
     "start_time": "2020-04-13T21:08:35.749704Z"
    }
   },
   "outputs": [],
   "source": [
    "class NMF_Net(nn.Module):\n",
    "    def __init__(self, X_height, k):\n",
    "        super(NMF_Net, self).__init__()\n",
    "        self.k = k\n",
    "        self.W = nn.Parameter(torch.Tensor(X_height, k))\n",
    "        self.W_inv = nn.Parameter(torch.Tensor(k, X_height))\n",
    "        \n",
    "        self.relu = nn.ReLU()\n",
    "        \n",
    "        # initialize W and W_inv\n",
    "        nn.init.uniform_(self.W)\n",
    "        nn.init.uniform_(self.W_inv)\n",
    "        \n",
    "    def forward(self, X):\n",
    "        H = self.get_H(X) # this is the encoder\n",
    "        \n",
    "        X_hat = self.relu(self.W) @ H # this is the decoder\n",
    "        return X_hat\n",
    "    \n",
    "    def get_H(self, X):\n",
    "        return self.relu(self.W_inv @ X)\n",
    "    \n",
    "    def get_W(self):\n",
    "        return self.W.data"
   ]
  },
  {
   "cell_type": "code",
   "execution_count": 4,
   "metadata": {
    "ExecuteTime": {
     "end_time": "2020-04-13T21:08:36.500274Z",
     "start_time": "2020-04-13T21:08:36.491589Z"
    }
   },
   "outputs": [
    {
     "data": {
      "text/plain": [
       "OrderedDict([('W', tensor([[0.5736, 0.3408, 0.0711, 0.3392],\n",
       "                      [0.7303, 0.2822, 0.2555, 0.8547],\n",
       "                      [0.8784, 0.6743, 0.1197, 0.4693],\n",
       "                      [0.4888, 0.6367, 0.9762, 0.8166],\n",
       "                      [0.7261, 0.2381, 0.7215, 0.1339],\n",
       "                      [0.7806, 0.5156, 0.7612, 0.3570],\n",
       "                      [0.3922, 0.3971, 0.9915, 0.4767],\n",
       "                      [0.4566, 0.2807, 0.0383, 0.2574],\n",
       "                      [0.0433, 0.9614, 0.3479, 0.9983],\n",
       "                      [0.1216, 0.4084, 0.2233, 0.8525]])),\n",
       "             ('W_inv',\n",
       "              tensor([[0.6024, 0.6248, 0.2842, 0.7710, 0.4565, 0.5840, 0.7697, 0.8471, 0.5929,\n",
       "                       0.1296],\n",
       "                      [0.5119, 0.6694, 0.2846, 0.9960, 0.0296, 0.8906, 0.8575, 0.1536, 0.5919,\n",
       "                       0.6926],\n",
       "                      [0.7801, 0.0649, 0.4945, 0.6534, 0.5532, 0.6881, 0.1876, 0.7455, 0.4924,\n",
       "                       0.5097],\n",
       "                      [0.2941, 0.9085, 0.1918, 0.9513, 0.3183, 0.9630, 0.1900, 0.3469, 0.7611,\n",
       "                       0.2038]]))])"
      ]
     },
     "execution_count": 4,
     "metadata": {},
     "output_type": "execute_result"
    }
   ],
   "source": [
    "net = NMF_Net(X.shape[0], 4)\n",
    "optimizer = torch.optim.Adam(net.parameters(), lr=2e-2)\n",
    "X_tensor = torch.FloatTensor(X)\n",
    "n_trials = 200\n",
    "\n",
    "def loss(x, x_hat):\n",
    "    return ((x - x_hat)**2).sum()\n",
    "\n",
    "net.train()\n",
    "net.state_dict()"
   ]
  },
  {
   "cell_type": "markdown",
   "metadata": {},
   "source": [
    "## Train it up"
   ]
  },
  {
   "cell_type": "code",
   "execution_count": 5,
   "metadata": {
    "ExecuteTime": {
     "end_time": "2020-04-13T21:08:41.496526Z",
     "start_time": "2020-04-13T21:08:41.292114Z"
    }
   },
   "outputs": [
    {
     "name": "stderr",
     "output_type": "stream",
     "text": [
      "100%|██████████| 200/200 [00:00<00:00, 1361.47it/s]\n"
     ]
    },
    {
     "data": {
      "image/png": "[encoded data removed]",
      "text/plain": [
       "<Figure size 432x288 with 1 Axes>"
      ]
     },
     "metadata": {
      "needs_background": "light"
     },
     "output_type": "display_data"
    }
   ],
   "source": [
    "losses = np.zeros(n_trials)\n",
    "for i in tqdm.tqdm(range(n_trials)):\n",
    "    \n",
    "    X_hat = net(X_tensor)\n",
    "    cur_loss = loss(X_tensor, X_hat) \n",
    "    \n",
    "    optimizer.zero_grad()\n",
    "    cur_loss.backward()\n",
    "    optimizer.step()\n",
    "    \n",
    "    losses[i] = cur_loss.item()\n",
    "\n",
    "plt.plot(losses)\n",
    "plt.title('Error vs Iterations:{}'.format(np.min(losses)))\n",
    "plt.show()"
   ]
  },
  {
   "cell_type": "markdown",
   "metadata": {},
   "source": [
    "## Look at the factors it recovered"
   ]
  },
  {
   "cell_type": "code",
   "execution_count": 6,
   "metadata": {
    "ExecuteTime": {
     "end_time": "2020-04-13T21:08:43.181555Z",
     "start_time": "2020-04-13T21:08:42.787638Z"
    }
   },
   "outputs": [
    {
     "data": {
      "image/png": "[encoded data removed]",
      "text/plain": [
       "<Figure size 1008x216 with 4 Axes>"
      ]
     },
     "metadata": {
      "needs_background": "light"
     },
     "output_type": "display_data"
    }
   ],
   "source": [
    "W_net = net.get_W().detach().numpy()\n",
    "H_net = net.get_H(X_tensor).detach().numpy()\n",
    "\n",
    "fig, ax = plt.subplots(1, 4, figsize=(14, 3))\n",
    "ax[0].matshow(X)\n",
    "ax[0].set_title('Original Matrix')\n",
    "\n",
    "ax[1].matshow(W_net)\n",
    "ax[1].set_title('W Matrix')\n",
    "\n",
    "ax[2].matshow(H_net)\n",
    "ax[2].set_title('H Matrix')\n",
    "\n",
    "ax[3].matshow(W_net @ H_net)\n",
    "ax[3].set_title('W @ H Matrix')\n",
    "\n",
    "plt.tight_layout()\n",
    "plt.show()"
   ]
  },
  {
   "cell_type": "markdown",
   "metadata": {},
   "source": [
    "## Now, Recall SVD"
   ]
  },
  {
   "cell_type": "markdown",
   "metadata": {},
   "source": [
    "SVD says that $$X =U \\Sigma V^\\top$$\n",
    "\n",
    "Remember that:\n",
    "\n",
    "$$U - \\text{Orthogonal}$$\n",
    "$$V - \\text{Orthogonal}$$\n",
    "$$\\Sigma - \\text{Diagonal}$$\n",
    "\n",
    "Having a network be non-negative like for NMF is easy...having it be orthogonal is a bit harder. We're gonna use the fact that any nxn orthogonal matrix can be represented with n householder reflectors.\n",
    "\n",
    "Instead of having this be an autoencoder we're gonna basically just be computing SVD like it was a neural network. This will lets us do some interesting things like use better losses or make the orthogonal matrices faster to compute with. My current implementation assumes that things are square but this should be easy to change."
   ]
  },
  {
   "cell_type": "code",
   "execution_count": 7,
   "metadata": {
    "ExecuteTime": {
     "end_time": "2020-04-13T21:11:57.928529Z",
     "start_time": "2020-04-13T21:11:57.916618Z"
    }
   },
   "outputs": [],
   "source": [
    "class HouseHolderLayer(nn.Module):\n",
    "    def __init__(self, n, num_hhrs):\n",
    "        super(HouseHolderLayer, self).__init__()\n",
    "        \n",
    "        self.hhrs = nn.ParameterList([])\n",
    "        for i in range(num_hhrs):\n",
    "            self.hhrs.append(nn.Parameter(torch.Tensor(n)))\n",
    "\n",
    "    def mult_by_hhr(self, x, h):\n",
    "        hT = h.unsqueeze(0)\n",
    "        h = h.unsqueeze(1)\n",
    "        beta = 2 / (h**2).sum()\n",
    "\n",
    "        return x - beta * (h @ (hT @ x)) \n",
    "    \n",
    "    def forward(self, x):\n",
    "        res = self.mult_by_hhr(x, self.hhrs[0])\n",
    "        for i in range(1, len(self.hhrs)):\n",
    "            res = self.mult_by_hhr(res, self.hhrs[i])\n",
    "        return res\n",
    "    \n",
    "class SVDNet(nn.Module):\n",
    "    def __init__(self, n, num_hhrs):\n",
    "        super(SVDNet, self).__init__()\n",
    "        self.sigma = nn.Parameter(torch.ones(n,1))\n",
    "        \n",
    "        self.U = HouseHolderLayer(n, num_hhrs)\n",
    "        self.VT = HouseHolderLayer(n, num_hhrs)\n",
    "        \n",
    "        for p in self.U.parameters():\n",
    "            torch.nn.init.normal_(p)\n",
    "        for p in self.VT.parameters():\n",
    "            torch.nn.init.normal_(p)\n",
    "        \n",
    "    def get_USVT(self, device):\n",
    "        eye = torch.eye(self.sigma.shape[0]).to(device)\n",
    "        U = self.U(eye).detach().cpu().numpy()\n",
    "        \n",
    "        S = np.diag(self.sigma.data.cpu().numpy()[:,0])\n",
    "\n",
    "        VT = self.VT(eye).detach().cpu().numpy()\n",
    "        return U, S, VT\n",
    "    \n",
    "    def forward(self, x):\n",
    "        return self.U(self.sigma * self.VT(x))"
   ]
  },
  {
   "cell_type": "code",
   "execution_count": 8,
   "metadata": {
    "ExecuteTime": {
     "end_time": "2020-04-13T21:15:57.416399Z",
     "start_time": "2020-04-13T21:15:57.403727Z"
    }
   },
   "outputs": [
    {
     "data": {
      "text/plain": [
       "OrderedDict([('sigma', tensor([[1.],\n",
       "                      [1.],\n",
       "                      [1.],\n",
       "                      [1.],\n",
       "                      [1.],\n",
       "                      [1.],\n",
       "                      [1.],\n",
       "                      [1.],\n",
       "                      [1.],\n",
       "                      [1.]])),\n",
       "             ('U.hhrs.0',\n",
       "              tensor([-0.5370,  0.3362, -0.1829,  0.2521,  0.6323, -0.1178, -1.4948, -0.3033,\n",
       "                      -2.0712,  0.7926])),\n",
       "             ('U.hhrs.1',\n",
       "              tensor([-0.0976, -1.4195, -0.9443, -1.0276, -0.0778,  1.8123, -1.0602, -0.3032,\n",
       "                       1.6812,  1.8492])),\n",
       "             ('U.hhrs.2',\n",
       "              tensor([-1.7411,  0.0147,  0.9475,  0.7153, -0.1043, -1.9008,  0.4650, -0.6866,\n",
       "                       2.0241,  2.0705])),\n",
       "             ('U.hhrs.3',\n",
       "              tensor([ 0.1859,  0.4518, -1.4419, -0.4116, -0.6500,  0.6399,  1.1908, -1.0038,\n",
       "                       0.9220, -0.4471])),\n",
       "             ('U.hhrs.4',\n",
       "              tensor([ 0.2107, -0.6306,  1.4757, -1.1713,  0.5501,  1.2426,  0.6208,  0.3037,\n",
       "                       0.3536,  0.2185])),\n",
       "             ('U.hhrs.5',\n",
       "              tensor([-0.0316,  1.2832,  0.3007,  0.9266, -1.4389, -0.6304,  0.1264,  0.7553,\n",
       "                       3.1084,  0.5128])),\n",
       "             ('U.hhrs.6',\n",
       "              tensor([-0.0664,  3.6265,  0.0667, -1.3986, -1.0512, -1.8203, -1.7446, -1.8626,\n",
       "                       0.8489,  0.3591])),\n",
       "             ('U.hhrs.7',\n",
       "              tensor([ 1.5988,  1.9158, -0.4005, -0.0728,  0.6370, -0.8075,  0.5211,  0.6706,\n",
       "                       0.8164,  1.3959])),\n",
       "             ('U.hhrs.8',\n",
       "              tensor([-0.2452, -1.6896, -0.1295,  1.1772, -0.5255,  0.6218,  1.7094, -0.2044,\n",
       "                      -0.4877, -1.5711])),\n",
       "             ('U.hhrs.9',\n",
       "              tensor([ 0.2486,  0.2337, -1.3086, -0.1741,  0.2529, -0.8820,  0.0029,  0.7979,\n",
       "                      -1.1498, -0.3975])),\n",
       "             ('VT.hhrs.0',\n",
       "              tensor([-0.7064, -0.0642,  0.2783,  0.9527, -0.7840, -0.5733,  0.5869,  1.3890,\n",
       "                       1.6210,  1.4798])),\n",
       "             ('VT.hhrs.1',\n",
       "              tensor([ 1.3018, -0.1745,  1.1365, -0.2097,  1.0652,  0.7972,  0.3505,  0.1074,\n",
       "                      -1.4360, -1.0575])),\n",
       "             ('VT.hhrs.2',\n",
       "              tensor([ 1.6920, -0.9680,  0.5524, -1.1989,  0.8034,  1.2284, -3.1335,  1.1125,\n",
       "                      -1.3697,  0.7120])),\n",
       "             ('VT.hhrs.3',\n",
       "              tensor([-0.8854,  0.8377,  0.4284, -0.4365, -1.5306,  0.9523,  0.8735,  1.7025,\n",
       "                       1.9445, -2.1597])),\n",
       "             ('VT.hhrs.4',\n",
       "              tensor([-0.4842,  0.0434, -2.1428, -0.7429,  0.1279, -1.4975, -0.3231,  1.7527,\n",
       "                      -0.7466,  0.5080])),\n",
       "             ('VT.hhrs.5',\n",
       "              tensor([-0.5524,  1.0633,  0.3592,  1.8303,  0.1694,  0.6649,  0.1681, -0.0450,\n",
       "                      -1.3149, -0.9083])),\n",
       "             ('VT.hhrs.6',\n",
       "              tensor([-0.7223, -1.6664,  0.3822,  0.4395,  0.7127,  0.7551, -1.0035, -1.0786,\n",
       "                      -0.7488,  0.8397])),\n",
       "             ('VT.hhrs.7',\n",
       "              tensor([-0.6416, -2.5264, -0.6909,  0.8837,  0.1042,  1.1935, -0.5799,  0.2021,\n",
       "                      -0.0400, -0.7611])),\n",
       "             ('VT.hhrs.8',\n",
       "              tensor([-0.3194,  0.0946, -0.8276, -0.8480, -0.6213,  0.7380, -1.8179, -1.1815,\n",
       "                      -0.4310,  0.8491])),\n",
       "             ('VT.hhrs.9',\n",
       "              tensor([ 0.4260,  0.0783, -1.3555,  0.2549,  0.0244,  0.3240,  0.7743,  1.0378,\n",
       "                      -2.6817,  0.8129]))])"
      ]
     },
     "execution_count": 8,
     "metadata": {},
     "output_type": "execute_result"
    }
   ],
   "source": [
    "net = SVDNet(X.shape[0], X.shape[0])\n",
    "optimizer = torch.optim.Adam(net.parameters(), lr=2e-1)\n",
    "X_tensor = torch.FloatTensor(X)\n",
    "n_trials = 500\n",
    "\n",
    "def loss(x, x_hat):\n",
    "    return ((x - x_hat)**2).sum()\n",
    "\n",
    "net.train()\n",
    "net.state_dict()"
   ]
  },
  {
   "cell_type": "code",
   "execution_count": 9,
   "metadata": {
    "ExecuteTime": {
     "end_time": "2020-04-13T21:15:59.752000Z",
     "start_time": "2020-04-13T21:15:57.924216Z"
    }
   },
   "outputs": [
    {
     "name": "stderr",
     "output_type": "stream",
     "text": [
      "100%|██████████| 500/500 [00:03<00:00, 141.67it/s]\n"
     ]
    },
    {
     "data": {
      "image/png": "[encoded data removed]",
      "text/plain": [
       "<Figure size 432x288 with 1 Axes>"
      ]
     },
     "metadata": {
      "needs_background": "light"
     },
     "output_type": "display_data"
    }
   ],
   "source": [
    "losses = np.zeros(n_trials)\n",
    "for i in tqdm.tqdm(range(n_trials)):\n",
    "    \n",
    "    X_hat = net(torch.eye(X_tensor.shape[0]))\n",
    "    cur_loss = loss(X_tensor, X_hat) \n",
    "    \n",
    "    optimizer.zero_grad()\n",
    "    cur_loss.backward()\n",
    "    optimizer.step()\n",
    "    \n",
    "    losses[i] = cur_loss.item()\n",
    "\n",
    "plt.plot(losses)\n",
    "plt.title('Error vs Iterations:{}'.format(np.min(losses)))\n",
    "plt.show()"
   ]
  },
  {
   "cell_type": "code",
   "execution_count": 10,
   "metadata": {
    "ExecuteTime": {
     "end_time": "2020-04-13T21:16:02.520093Z",
     "start_time": "2020-04-13T21:16:02.035115Z"
    }
   },
   "outputs": [
    {
     "data": {
      "image/png": "[encoded data removed]",
      "text/plain": [
       "<Figure size 1008x216 with 5 Axes>"
      ]
     },
     "metadata": {
      "needs_background": "light"
     },
     "output_type": "display_data"
    }
   ],
   "source": [
    "U, S, VT = net.get_USVT(X_tensor.device)\n",
    "\n",
    "fig, ax = plt.subplots(1, 5, figsize=(14, 3))\n",
    "ax[0].matshow(X)\n",
    "ax[0].set_title('Original Matrix')\n",
    "\n",
    "ax[1].matshow(U)\n",
    "ax[1].set_title('U Matrix')\n",
    "\n",
    "ax[2].matshow(S)\n",
    "ax[2].set_title('S Matrix')\n",
    "\n",
    "ax[3].matshow(VT)\n",
    "ax[3].set_title('VT Matrix')\n",
    "\n",
    "ax[4].matshow(U @ S @ VT)\n",
    "ax[4].set_title('U @ S @ VT Matrix')\n",
    "\n",
    "plt.tight_layout()\n",
    "plt.show()"
   ]
  },
  {
   "cell_type": "code",
   "execution_count": null,
   "metadata": {
    "collapsed": true
   },
   "outputs": [],
   "source": []
  }
 ],
 "metadata": {
  "kernelspec": {
   "display_name": "Python 3",
   "language": "python",
   "name": "python3"
  },
  "language_info": {
   "codemirror_mode": {
    "name": "ipython",
    "version": 3
   },
   "file_extension": ".py",
   "mimetype": "text/x-python",
   "name": "python",
   "nbconvert_exporter": "python",
   "pygments_lexer": "ipython3",
   "version": "3.6.2"
  }
 },
 "nbformat": 4,
 "nbformat_minor": 4
}
