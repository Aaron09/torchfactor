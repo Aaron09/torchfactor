{
 "cells": [
  {
   "cell_type": "code",
   "execution_count": 1,
   "metadata": {},
   "outputs": [],
   "source": [
    "from torchfactor.factorization.svd import SVDNet\n",
    "from torchfactor.experiment.experiment import Experiment"
   ]
  },
  {
   "cell_type": "code",
   "execution_count": null,
   "metadata": {},
   "outputs": [],
   "source": []
  },
  {
   "cell_type": "code",
   "execution_count": 2,
   "metadata": {},
   "outputs": [],
   "source": [
    "net = SVDNet(128, 128)\n",
    "optimizer = torch.optim.Adam(net.parameters(), lr=2e-1)\n",
    "\n",
    "def loss(x, x_hat):\n",
    "    return ((x - x_hat)**2).sum()\n",
    "\n",
    "def comparison_metric(output, gt):\n",
    "    pass "
   ]
  },
  {
   "cell_type": "raw",
   "metadata": {},
   "source": [
    "experiment = Experiment(\n",
    "    net=net, loss=loss, optimizer=optimzer, comparison_metric=comparison_metric,\n",
    "    train_dataloader=TODO, validation_dataloader=TODO \n",
    ")\n",
    "\n",
    "train_loss_over_epochs, val_acc_over_epochs = experiment.run(train_epochs=5, train_validation_interval=1)"
   ]
  }
 ],
 "metadata": {
  "kernelspec": {
   "display_name": "Python 3",
   "language": "python",
   "name": "python3"
  },
  "language_info": {
   "codemirror_mode": {
    "name": "ipython",
    "version": 3
   },
   "file_extension": ".py",
   "mimetype": "text/x-python",
   "name": "python",
   "nbconvert_exporter": "python",
   "pygments_lexer": "ipython3",
   "version": "3.6.2"
  }
 },
 "nbformat": 4,
 "nbformat_minor": 4
}
